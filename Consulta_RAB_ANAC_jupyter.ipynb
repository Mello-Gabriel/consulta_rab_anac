{
 "cells": [
  {
   "cell_type": "markdown",
   "metadata": {},
   "source": [
    "### Importando a biblioteca pandas e a associando à sigla pd."
   ]
  },
  {
   "cell_type": "code",
   "execution_count": 1,
   "metadata": {
    "colab": {},
    "colab_type": "code",
    "id": "z6dZV5Aiex-J"
   },
   "outputs": [],
   "source": [
    "import pandas as pd"
   ]
  },
  {
   "cell_type": "markdown",
   "metadata": {},
   "source": [
    "### Extraindo tabelas com matrículas de aeronaves:\n",
    "- [Frota da Gol do Wikipédia](https://pt.wikipedia.org/wiki/Frota_de_aeronaves_da_Gol_Linhas_A%C3%A9reas_Inteligentes)"
   ]
  },
  {
   "cell_type": "code",
   "execution_count": 2,
   "metadata": {},
   "outputs": [],
   "source": [
    "importacao=pd.read_html('https://pt.wikipedia.org/wiki/Frota_de_aeronaves_da_Gol_Linhas_A%C3%A9reas_Inteligentes')\n",
    "# As tabelas são incoporadas a uma lista de DataFrames."
   ]
  },
  {
   "cell_type": "markdown",
   "metadata": {},
   "source": [
    "### Selecionando as tabelas que serão utilizadas."
   ]
  },
  {
   "cell_type": "code",
   "execution_count": 3,
   "metadata": {},
   "outputs": [],
   "source": [
    "importacao=importacao[2:5]\n",
    "# Somente as tabelas 2, 3 e 4 serão utilizads."
   ]
  },
  {
   "cell_type": "markdown",
   "metadata": {},
   "source": [
    "### Unificando as tabelas e criando uma lista com os prefixos das aeronaves."
   ]
  },
  {
   "cell_type": "code",
   "execution_count": 4,
   "metadata": {},
   "outputs": [],
   "source": [
    "aeronaves=pd.concat(importacao, ignore_index=True)\n",
    "#Agrupa todas as tabelas extraidas para o DataFrame aeronaves.\n",
    "aeronaves=list(aeronaves['Prefixo'][0:140]) \n",
    "#Cria a lista com os prefixos válidos, para isso extrai a coluna 'Prefixo' e linhas 0 a 139.\n"
   ]
  },
  {
   "cell_type": "markdown",
   "metadata": {},
   "source": [
    "### Realizando a consulta no RAB e salvando as informações em um dicionário.\n",
    "É realizado ajuste do index para que não existam nomes duplicados. Depois é realizada a transposição das tabelas de linhas para colunas."
   ]
  },
  {
   "cell_type": "code",
   "execution_count": 5,
   "metadata": {},
   "outputs": [],
   "source": [
    "rab={}\n",
    "for aeronave in aeronaves:\n",
    "    rab[aeronave]=pd.read_html(f'https://sistemas.anac.gov.br/aeronaves/cons_rab_resposta.asp?textMarca={aeronave}')[0]\n",
    "    #O read_html retorna uma lista de dataframes, precisamos somente do primeiro, por isso selecionamos o item [0] da lista.\n",
    "    rab[aeronave]=rab[aeronave].set_index(0)\n",
    "    #Seleciona a primeira coluna como index.\n",
    "    rab[aeronave].index = rab[aeronave].index.where(~rab[aeronave].index.duplicated(), rab[aeronave].index + '1')\n",
    "    #Identifica valores de index repetidos e edita o segundo valor.\n",
    "    rab[aeronave]=rab[aeronave].transpose()\n",
    "    #Transpoe a tabela."
   ]
  },
  {
   "cell_type": "markdown",
   "metadata": {},
   "source": [
    "### Unificando as tabelas importadas e associando a chave do dicionário ao índex da tabela."
   ]
  },
  {
   "cell_type": "code",
   "execution_count": 12,
   "metadata": {},
   "outputs": [],
   "source": [
    "indice=list(rab.keys())\n",
    "tabela=pd.concat(rab, keys=indice).droplevel(1)\n",
    "tabela.to_excel('./output/consulta.xls') # Exportação para excel - para auxliar a vizualização dos dados e buscar por falhas."
   ]
  },
  {
   "cell_type": "markdown",
   "metadata": {},
   "source": [
    "### Apresentando a tabela criada."
   ]
  },
  {
   "cell_type": "code",
   "execution_count": 13,
   "metadata": {},
   "outputs": [
    {
     "output_type": "display_data",
     "data": {
      "text/plain": "                                            Proprietário: CPF/CNPJ:  \\\nPR-GEA  SASOF IV (A5) AVIATION IRELAND DESIGNATED ACTI...       NaN   \nPR-GEC                                     UMB BANK, N.A.       NaN   \nPR-GED                                     UMB BANK, N.A.       NaN   \nPR-GEE                                   AWAS 32415 TRUST       NaN   \nPR-GEH             CELESTIAL AVIATION TRADING 66 LIMMITED       NaN   \n\n                    Operador:      CPF/CNPJ:1     Fabricante:  \\\nPR-GEA  GOL LINHAS AEREAS S.A  07575651000159  BOEING COMPANY   \nPR-GEC  GOL LINHAS AEREAS S.A  07575651000159  BOEING COMPANY   \nPR-GED  GOL LINHAS AEREAS S.A  07575651000159  BOEING COMPANY   \nPR-GEE  GOL LINHAS AEREAS S.A  07575651000159  BOEING COMPANY   \nPR-GEH  GOL LINHAS AEREAS S.A  07575651000159  BOEING COMPANY   \n\n       Ano de Fabricação:  Modelo: Número de Série: Tipo ICAO:  \\\nPR-GEA               2009  737-7EH            37595       B737   \nPR-GEC               2011  737-7EH            37608       B737   \nPR-GED               2011  737-7EH            37609       B737   \nPR-GEE               2002  737-73V            32415       B737   \nPR-GEH               2007  737-76N            34757       B737   \n\n       Tipo de Habilitação para Pilotos:  ...  \\\nPR-GEA                              B739  ...   \nPR-GEC                              B739  ...   \nPR-GED                              B739  ...   \nPR-GEE                              B739  ...   \nPR-GEH                              B739  ...   \n\n                           Categoria de Registro: Número da Matrícula:  \\\nPR-GEA  PRIVADA SERV.TRANSP.AEREO PUBLICO REGULAR                18476   \nPR-GEC  PRIVADA SERV.TRANSP.AEREO PUBLICO REGULAR                20026   \nPR-GED  PRIVADA SERV.TRANSP.AEREO PUBLICO REGULAR                20331   \nPR-GEE  PRIVADA SERV.TRANSP.AEREO PUBLICO REGULAR                20979   \nPR-GEH  PRIVADA SERV.TRANSP.AEREO PUBLICO REGULAR                23092   \n\n                    Status da Operação: Data da Compra/Transferência:  \\\nPR-GEA  OPERAÇÃO NEGADA PARA TÁXI AÉREO                      06/03/19   \nPR-GEC  OPERAÇÃO NEGADA PARA TÁXI AÉREO                      10/03/20   \nPR-GED  OPERAÇÃO NEGADA PARA TÁXI AÉREO                      10/03/20   \nPR-GEE  OPERAÇÃO NEGADA PARA TÁXI AÉREO                           NaN   \nPR-GEH  OPERAÇÃO NEGADA PARA TÁXI AÉREO                           NaN   \n\n       Data de Emissão do CA: Data de Validade do RCA:  \\\nPR-GEA               14/08/19                 27/08/21   \nPR-GEC               14/08/19                 27/07/23   \nPR-GED               14/08/19                      NaN   \nPR-GEE               19/08/19                 04/05/21   \nPR-GEH               14/08/19                 30/05/21   \n\n       Situação de Aeronavegabilidade: Motivo(s): Data de Validade do CVA:  \\\nPR-GEA                          Normal        NaN                      NaN   \nPR-GEC                          Normal        NaN                      NaN   \nPR-GED                          Normal        NaN                 05/08/23   \nPR-GEE                          Normal        NaN                      NaN   \nPR-GEH                          Normal        NaN                      NaN   \n\n        NaN  \nPR-GEA  NaN  \nPR-GEC  NaN  \nPR-GED  NaN  \nPR-GEE  NaN  \nPR-GEH  NaN  \n\n[5 rows x 24 columns]",
      "text/html": "<div>\n<style scoped>\n    .dataframe tbody tr th:only-of-type {\n        vertical-align: middle;\n    }\n\n    .dataframe tbody tr th {\n        vertical-align: top;\n    }\n\n    .dataframe thead th {\n        text-align: right;\n    }\n</style>\n<table border=\"1\" class=\"dataframe\">\n  <thead>\n    <tr style=\"text-align: right;\">\n      <th></th>\n      <th>Proprietário:</th>\n      <th>CPF/CNPJ:</th>\n      <th>Operador:</th>\n      <th>CPF/CNPJ:1</th>\n      <th>Fabricante:</th>\n      <th>Ano de Fabricação:</th>\n      <th>Modelo:</th>\n      <th>Número de Série:</th>\n      <th>Tipo ICAO:</th>\n      <th>Tipo de Habilitação para Pilotos:</th>\n      <th>...</th>\n      <th>Categoria de Registro:</th>\n      <th>Número da Matrícula:</th>\n      <th>Status da Operação:</th>\n      <th>Data da Compra/Transferência:</th>\n      <th>Data de Emissão do CA:</th>\n      <th>Data de Validade do RCA:</th>\n      <th>Situação de Aeronavegabilidade:</th>\n      <th>Motivo(s):</th>\n      <th>Data de Validade do CVA:</th>\n      <th>NaN</th>\n    </tr>\n  </thead>\n  <tbody>\n    <tr>\n      <th>PR-GEA</th>\n      <td>SASOF IV (A5) AVIATION IRELAND DESIGNATED ACTI...</td>\n      <td>NaN</td>\n      <td>GOL LINHAS AEREAS S.A</td>\n      <td>07575651000159</td>\n      <td>BOEING COMPANY</td>\n      <td>2009</td>\n      <td>737-7EH</td>\n      <td>37595</td>\n      <td>B737</td>\n      <td>B739</td>\n      <td>...</td>\n      <td>PRIVADA SERV.TRANSP.AEREO PUBLICO REGULAR</td>\n      <td>18476</td>\n      <td>OPERAÇÃO NEGADA PARA TÁXI AÉREO</td>\n      <td>06/03/19</td>\n      <td>14/08/19</td>\n      <td>27/08/21</td>\n      <td>Normal</td>\n      <td>NaN</td>\n      <td>NaN</td>\n      <td>NaN</td>\n    </tr>\n    <tr>\n      <th>PR-GEC</th>\n      <td>UMB BANK, N.A.</td>\n      <td>NaN</td>\n      <td>GOL LINHAS AEREAS S.A</td>\n      <td>07575651000159</td>\n      <td>BOEING COMPANY</td>\n      <td>2011</td>\n      <td>737-7EH</td>\n      <td>37608</td>\n      <td>B737</td>\n      <td>B739</td>\n      <td>...</td>\n      <td>PRIVADA SERV.TRANSP.AEREO PUBLICO REGULAR</td>\n      <td>20026</td>\n      <td>OPERAÇÃO NEGADA PARA TÁXI AÉREO</td>\n      <td>10/03/20</td>\n      <td>14/08/19</td>\n      <td>27/07/23</td>\n      <td>Normal</td>\n      <td>NaN</td>\n      <td>NaN</td>\n      <td>NaN</td>\n    </tr>\n    <tr>\n      <th>PR-GED</th>\n      <td>UMB BANK, N.A.</td>\n      <td>NaN</td>\n      <td>GOL LINHAS AEREAS S.A</td>\n      <td>07575651000159</td>\n      <td>BOEING COMPANY</td>\n      <td>2011</td>\n      <td>737-7EH</td>\n      <td>37609</td>\n      <td>B737</td>\n      <td>B739</td>\n      <td>...</td>\n      <td>PRIVADA SERV.TRANSP.AEREO PUBLICO REGULAR</td>\n      <td>20331</td>\n      <td>OPERAÇÃO NEGADA PARA TÁXI AÉREO</td>\n      <td>10/03/20</td>\n      <td>14/08/19</td>\n      <td>NaN</td>\n      <td>Normal</td>\n      <td>NaN</td>\n      <td>05/08/23</td>\n      <td>NaN</td>\n    </tr>\n    <tr>\n      <th>PR-GEE</th>\n      <td>AWAS 32415 TRUST</td>\n      <td>NaN</td>\n      <td>GOL LINHAS AEREAS S.A</td>\n      <td>07575651000159</td>\n      <td>BOEING COMPANY</td>\n      <td>2002</td>\n      <td>737-73V</td>\n      <td>32415</td>\n      <td>B737</td>\n      <td>B739</td>\n      <td>...</td>\n      <td>PRIVADA SERV.TRANSP.AEREO PUBLICO REGULAR</td>\n      <td>20979</td>\n      <td>OPERAÇÃO NEGADA PARA TÁXI AÉREO</td>\n      <td>NaN</td>\n      <td>19/08/19</td>\n      <td>04/05/21</td>\n      <td>Normal</td>\n      <td>NaN</td>\n      <td>NaN</td>\n      <td>NaN</td>\n    </tr>\n    <tr>\n      <th>PR-GEH</th>\n      <td>CELESTIAL AVIATION TRADING 66 LIMMITED</td>\n      <td>NaN</td>\n      <td>GOL LINHAS AEREAS S.A</td>\n      <td>07575651000159</td>\n      <td>BOEING COMPANY</td>\n      <td>2007</td>\n      <td>737-76N</td>\n      <td>34757</td>\n      <td>B737</td>\n      <td>B739</td>\n      <td>...</td>\n      <td>PRIVADA SERV.TRANSP.AEREO PUBLICO REGULAR</td>\n      <td>23092</td>\n      <td>OPERAÇÃO NEGADA PARA TÁXI AÉREO</td>\n      <td>NaN</td>\n      <td>14/08/19</td>\n      <td>30/05/21</td>\n      <td>Normal</td>\n      <td>NaN</td>\n      <td>NaN</td>\n      <td>NaN</td>\n    </tr>\n  </tbody>\n</table>\n<p>5 rows × 24 columns</p>\n</div>"
     },
     "metadata": {}
    }
   ],
   "source": [
    "display(tabela.head(5))"
   ]
  },
  {
   "cell_type": "markdown",
   "metadata": {},
   "source": [
    "Verificando características da tabela, como o tipo de dados em cada coluna."
   ]
  },
  {
   "cell_type": "code",
   "execution_count": 14,
   "metadata": {
    "scrolled": true,
    "tags": []
   },
   "outputs": [
    {
     "output_type": "stream",
     "name": "stdout",
     "text": "<class 'pandas.core.frame.DataFrame'>\nIndex: 139 entries, PR-GEA to PR-XMR\nData columns (total 24 columns):\n #   Column                             Non-Null Count  Dtype \n---  ------                             --------------  ----- \n 0   Proprietário:                      128 non-null    object\n 1   CPF/CNPJ:                          0 non-null      object\n 2   Operador:                          128 non-null    object\n 3   CPF/CNPJ:1                         128 non-null    object\n 4   Fabricante:                        128 non-null    object\n 5   Ano de Fabricação:                 128 non-null    object\n 6   Modelo:                            128 non-null    object\n 7   Número de Série:                   128 non-null    object\n 8   Tipo ICAO:                         128 non-null    object\n 9   Tipo de Habilitação para Pilotos:  128 non-null    object\n 10  Classe da Aeronave:                128 non-null    object\n 11  Peso Máximo de Decolagem:          128 non-null    object\n 12  Número Máximo de Passageiros:      128 non-null    object\n 13  Tipo de voo autorizado:            128 non-null    object\n 14  Categoria de Registro:             127 non-null    object\n 15  Número da Matrícula:               128 non-null    object\n 16  Status da Operação:                139 non-null    object\n 17  Data da Compra/Transferência:      89 non-null     object\n 18  Data de Emissão do CA:             128 non-null    object\n 19  Data de Validade do RCA:           120 non-null    object\n 20  Situação de Aeronavegabilidade:    128 non-null    object\n 21  Motivo(s):                         2 non-null      object\n 22  Data de Validade do CVA:           8 non-null      object\n 23  nan                                0 non-null      object\ndtypes: object(24)\nmemory usage: 27.1+ KB\n"
    }
   ],
   "source": [
    "tabela.info()"
   ]
  },
  {
   "cell_type": "markdown",
   "metadata": {},
   "source": [
    "Verificando o tipo de dados para cada linha da coluna 'Peso Máximo de Decolagem:'"
   ]
  },
  {
   "cell_type": "code",
   "execution_count": 15,
   "metadata": {
    "scrolled": true
   },
   "outputs": [
    {
     "output_type": "execute_result",
     "data": {
      "text/plain": "PR-GEA      <class 'str'>\nPR-GEC      <class 'str'>\nPR-GED      <class 'str'>\nPR-GEE      <class 'str'>\nPR-GEH      <class 'str'>\n               ...       \nPR-XMN    <class 'float'>\nPR-XMO    <class 'float'>\nPR-XMP    <class 'float'>\nPR-XMQ    <class 'float'>\nPR-XMR    <class 'float'>\nName: Peso Máximo de Decolagem:, Length: 139, dtype: object"
     },
     "metadata": {},
     "execution_count": 15
    }
   ],
   "source": [
    "tabela['Peso Máximo de Decolagem:'].apply(type)"
   ]
  },
  {
   "cell_type": "markdown",
   "metadata": {},
   "source": []
  },
  {
   "cell_type": "code",
   "execution_count": 16,
   "metadata": {
    "scrolled": true
   },
   "outputs": [
    {
     "output_type": "execute_result",
     "data": {
      "text/plain": "PR-GEA    <class 'float'>\nPR-GEC    <class 'float'>\nPR-GED    <class 'float'>\nPR-GEE    <class 'float'>\nPR-GEH    <class 'float'>\n               ...       \nPR-XMN    <class 'float'>\nPR-XMO    <class 'float'>\nPR-XMP    <class 'float'>\nPR-XMQ    <class 'float'>\nPR-XMR    <class 'float'>\nName: Peso Máximo de Decolagem:, Length: 139, dtype: object"
     },
     "metadata": {},
     "execution_count": 16
    }
   ],
   "source": [
    "tabela['Peso Máximo de Decolagem:']=tabela['Peso Máximo de Decolagem:'].replace(['-','Kg'],'',regex=True).astype('float')\n",
    "tabela['Peso Máximo de Decolagem:'].apply(type)"
   ]
  },
  {
   "cell_type": "markdown",
   "metadata": {},
   "source": []
  },
  {
   "cell_type": "code",
   "execution_count": 17,
   "metadata": {
    "tags": []
   },
   "outputs": [
    {
     "output_type": "stream",
     "name": "stdout",
     "text": "<class 'pandas.core.frame.DataFrame'>\nIndex: 139 entries, PR-GEA to PR-XMR\nData columns (total 24 columns):\n #   Column                             Non-Null Count  Dtype  \n---  ------                             --------------  -----  \n 0   Proprietário:                      128 non-null    object \n 1   CPF/CNPJ:                          0 non-null      object \n 2   Operador:                          128 non-null    object \n 3   CPF/CNPJ:1                         128 non-null    object \n 4   Fabricante:                        128 non-null    object \n 5   Ano de Fabricação:                 128 non-null    object \n 6   Modelo:                            128 non-null    object \n 7   Número de Série:                   128 non-null    object \n 8   Tipo ICAO:                         128 non-null    object \n 9   Tipo de Habilitação para Pilotos:  128 non-null    object \n 10  Classe da Aeronave:                128 non-null    object \n 11  Peso Máximo de Decolagem:          128 non-null    float64\n 12  Número Máximo de Passageiros:      128 non-null    object \n 13  Tipo de voo autorizado:            128 non-null    object \n 14  Categoria de Registro:             127 non-null    object \n 15  Número da Matrícula:               128 non-null    object \n 16  Status da Operação:                139 non-null    object \n 17  Data da Compra/Transferência:      89 non-null     object \n 18  Data de Emissão do CA:             128 non-null    object \n 19  Data de Validade do RCA:           120 non-null    object \n 20  Situação de Aeronavegabilidade:    128 non-null    object \n 21  Motivo(s):                         2 non-null      object \n 22  Data de Validade do CVA:           8 non-null      object \n 23  nan                                0 non-null      object \ndtypes: float64(1), object(23)\nmemory usage: 32.1+ KB\n"
    }
   ],
   "source": [
    "tabela.info()"
   ]
  }
 ],
 "metadata": {
  "colab": {
   "collapsed_sections": [],
   "name": "consulta_rab_anac.ipynb",
   "provenance": []
  },
  "kernelspec": {
   "display_name": "Python 3",
   "language": "python",
   "name": "python3"
  },
  "language_info": {
   "codemirror_mode": {
    "name": "ipython",
    "version": 3
   },
   "file_extension": ".py",
   "mimetype": "text/x-python",
   "name": "python",
   "nbconvert_exporter": "python",
   "pygments_lexer": "ipython3",
   "version": "3.8.3-final"
  }
 },
 "nbformat": 4,
 "nbformat_minor": 1
}