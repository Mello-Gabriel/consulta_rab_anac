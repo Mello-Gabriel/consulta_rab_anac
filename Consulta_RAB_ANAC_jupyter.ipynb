{
 "cells": [
  {
   "cell_type": "markdown",
   "metadata": {},
   "source": [
    "### Importando a biblioteca pandas e a associando à sigla pd."
   ]
  },
  {
   "cell_type": "code",
   "execution_count": 1,
   "metadata": {
    "colab": {},
    "colab_type": "code",
    "id": "z6dZV5Aiex-J"
   },
   "outputs": [],
   "source": [
    "import pandas as pd"
   ]
  },
  {
   "cell_type": "markdown",
   "metadata": {},
   "source": [
    "### Baixando do web (Wikipedia) tabelas com matrículas de aeronaves. Nesse caso, com a frota da Gol."
   ]
  },
  {
   "cell_type": "code",
   "execution_count": 2,
   "metadata": {},
   "outputs": [],
   "source": [
    "importacao=pd.read_html('https://pt.wikipedia.org/wiki/Frota_de_aeronaves_da_Gol_Linhas_A%C3%A9reas_Inteligentes')\n",
    "# As tabelas são incoporadas a uma lista de DataFrames."
   ]
  },
  {
   "cell_type": "markdown",
   "metadata": {},
   "source": [
    "### Selecionando as tabelas que serão utilizadas."
   ]
  },
  {
   "cell_type": "code",
   "execution_count": 3,
   "metadata": {},
   "outputs": [],
   "source": [
    "importacao=importacao[2:5]\n",
    "# Somente as tabelas 2, 3 e 4 serão utilizads."
   ]
  },
  {
   "cell_type": "markdown",
   "metadata": {},
   "source": [
    "### Unificando as tabelas e criando uma lista com os prefixos das aeronaves."
   ]
  },
  {
   "cell_type": "code",
   "execution_count": 4,
   "metadata": {},
   "outputs": [],
   "source": [
    "aeronaves=pd.concat(importacao, ignore_index=True)\n",
    "aeronaves=list(aeronaves['Prefixo'][0:140]) #Utilizaremos somente a coluna Prefixo e linhas 0 a 139."
   ]
  },
  {
   "cell_type": "markdown",
   "metadata": {},
   "source": [
    "### Realizando a consulta no RAB e salvando as informações no dicionário rab.\n",
    "É realizado ajuste do index para que não existam nomes duplicados. Depois é realizada a transposição das tabelas de linhas para colunas."
   ]
  },
  {
   "cell_type": "code",
   "execution_count": 5,
   "metadata": {},
   "outputs": [],
   "source": [
    "rab={}\n",
    "for aeronave in aeronaves:\n",
    "    rab[aeronave]=pd.read_html(f'https://sistemas.anac.gov.br/aeronaves/cons_rab_resposta.asp?textMarca={aeronave}')[0]\n",
    "    rab[aeronave]=rab[aeronave].set_index(0)\n",
    "    rab[aeronave].index = rab[aeronave].index.where(~rab[aeronave].index.duplicated(), rab[aeronave].index + '1')\n",
    "    rab[aeronave]=rab[aeronave].transpose()"
   ]
  },
  {
   "cell_type": "markdown",
   "metadata": {},
   "source": [
    "### Unificando as tabelas importadas e associando a chave do dicionário ao índex da tabela."
   ]
  },
  {
   "cell_type": "code",
   "execution_count": 6,
   "metadata": {},
   "outputs": [],
   "source": [
    "indice=list(rab.keys())\n",
    "tabela=pd.concat(rab, keys=indice).droplevel(1)\n",
    "tabela.to_excel('consulta.xls') # Exportação para excel - para auxliar a vizualização dos dados e buscar por falhas."
   ]
  },
  {
   "cell_type": "markdown",
   "metadata": {},
   "source": [
    "### Apresentando a tabela criada."
   ]
  },
  {
   "cell_type": "code",
   "execution_count": 7,
   "metadata": {},
   "outputs": [
    {
     "data": {
      "text/html": [
       "<div>\n",
       "<style scoped>\n",
       "    .dataframe tbody tr th:only-of-type {\n",
       "        vertical-align: middle;\n",
       "    }\n",
       "\n",
       "    .dataframe tbody tr th {\n",
       "        vertical-align: top;\n",
       "    }\n",
       "\n",
       "    .dataframe thead th {\n",
       "        text-align: right;\n",
       "    }\n",
       "</style>\n",
       "<table border=\"1\" class=\"dataframe\">\n",
       "  <thead>\n",
       "    <tr style=\"text-align: right;\">\n",
       "      <th></th>\n",
       "      <th>Proprietário:</th>\n",
       "      <th>CPF/CNPJ:</th>\n",
       "      <th>Operador:</th>\n",
       "      <th>CPF/CNPJ:1</th>\n",
       "      <th>Fabricante:</th>\n",
       "      <th>Ano de Fabricação:</th>\n",
       "      <th>Modelo:</th>\n",
       "      <th>Número de Série:</th>\n",
       "      <th>Tipo ICAO:</th>\n",
       "      <th>Tipo de Habilitação para Pilotos:</th>\n",
       "      <th>...</th>\n",
       "      <th>Categoria de Registro:</th>\n",
       "      <th>Número da Matrícula:</th>\n",
       "      <th>Status da Operação:</th>\n",
       "      <th>Data da Compra/Transferência:</th>\n",
       "      <th>Data de Emissão do CA:</th>\n",
       "      <th>Data de Validade do RCA:</th>\n",
       "      <th>Situação de Aeronavegabilidade:</th>\n",
       "      <th>Motivo(s):</th>\n",
       "      <th>Data de Validade do CVA:</th>\n",
       "      <th>NaN</th>\n",
       "    </tr>\n",
       "  </thead>\n",
       "  <tbody>\n",
       "    <tr>\n",
       "      <th>PR-GEA</th>\n",
       "      <td>SASOF IV (A5) AVIATION IRELAND DESIGNATED ACTI...</td>\n",
       "      <td>NaN</td>\n",
       "      <td>GOL LINHAS AEREAS S.A</td>\n",
       "      <td>07575651000159</td>\n",
       "      <td>BOEING COMPANY</td>\n",
       "      <td>2009</td>\n",
       "      <td>737-7EH</td>\n",
       "      <td>37595</td>\n",
       "      <td>B737</td>\n",
       "      <td>B739</td>\n",
       "      <td>...</td>\n",
       "      <td>PRIVADA SERV.TRANSP.AEREO PUBLICO REGULAR</td>\n",
       "      <td>18476</td>\n",
       "      <td>OPERAÇÃO NEGADA PARA TÁXI AÉREO</td>\n",
       "      <td>06/03/19</td>\n",
       "      <td>14/08/19</td>\n",
       "      <td>27/08/21</td>\n",
       "      <td>Normal</td>\n",
       "      <td>NaN</td>\n",
       "      <td>NaN</td>\n",
       "      <td>NaN</td>\n",
       "    </tr>\n",
       "    <tr>\n",
       "      <th>PR-GEC</th>\n",
       "      <td>UMB BANK, N.A.</td>\n",
       "      <td>NaN</td>\n",
       "      <td>GOL LINHAS AEREAS S.A</td>\n",
       "      <td>07575651000159</td>\n",
       "      <td>BOEING COMPANY</td>\n",
       "      <td>2011</td>\n",
       "      <td>737-7EH</td>\n",
       "      <td>37608</td>\n",
       "      <td>B737</td>\n",
       "      <td>B739</td>\n",
       "      <td>...</td>\n",
       "      <td>PRIVADA SERV.TRANSP.AEREO PUBLICO REGULAR</td>\n",
       "      <td>20026</td>\n",
       "      <td>OPERAÇÃO NEGADA PARA TÁXI AÉREO</td>\n",
       "      <td>10/03/20</td>\n",
       "      <td>14/08/19</td>\n",
       "      <td>27/07/23</td>\n",
       "      <td>Normal</td>\n",
       "      <td>NaN</td>\n",
       "      <td>NaN</td>\n",
       "      <td>NaN</td>\n",
       "    </tr>\n",
       "    <tr>\n",
       "      <th>PR-GED</th>\n",
       "      <td>UMB BANK, N.A.</td>\n",
       "      <td>NaN</td>\n",
       "      <td>GOL LINHAS AEREAS S.A</td>\n",
       "      <td>07575651000159</td>\n",
       "      <td>BOEING COMPANY</td>\n",
       "      <td>2011</td>\n",
       "      <td>737-7EH</td>\n",
       "      <td>37609</td>\n",
       "      <td>B737</td>\n",
       "      <td>B739</td>\n",
       "      <td>...</td>\n",
       "      <td>PRIVADA SERV.TRANSP.AEREO PUBLICO REGULAR</td>\n",
       "      <td>20331</td>\n",
       "      <td>OPERAÇÃO NEGADA PARA TÁXI AÉREO</td>\n",
       "      <td>10/03/20</td>\n",
       "      <td>14/08/19</td>\n",
       "      <td>NaN</td>\n",
       "      <td>Normal</td>\n",
       "      <td>NaN</td>\n",
       "      <td>05/08/23</td>\n",
       "      <td>NaN</td>\n",
       "    </tr>\n",
       "    <tr>\n",
       "      <th>PR-GEE</th>\n",
       "      <td>AWAS 32415 TRUST</td>\n",
       "      <td>NaN</td>\n",
       "      <td>GOL LINHAS AEREAS S.A</td>\n",
       "      <td>07575651000159</td>\n",
       "      <td>BOEING COMPANY</td>\n",
       "      <td>2002</td>\n",
       "      <td>737-73V</td>\n",
       "      <td>32415</td>\n",
       "      <td>B737</td>\n",
       "      <td>B739</td>\n",
       "      <td>...</td>\n",
       "      <td>PRIVADA SERV.TRANSP.AEREO PUBLICO REGULAR</td>\n",
       "      <td>20979</td>\n",
       "      <td>OPERAÇÃO NEGADA PARA TÁXI AÉREO</td>\n",
       "      <td>NaN</td>\n",
       "      <td>19/08/19</td>\n",
       "      <td>04/05/21</td>\n",
       "      <td>Normal</td>\n",
       "      <td>NaN</td>\n",
       "      <td>NaN</td>\n",
       "      <td>NaN</td>\n",
       "    </tr>\n",
       "    <tr>\n",
       "      <th>PR-GEH</th>\n",
       "      <td>CELESTIAL AVIATION TRADING 66 LIMMITED</td>\n",
       "      <td>NaN</td>\n",
       "      <td>GOL LINHAS AEREAS S.A</td>\n",
       "      <td>07575651000159</td>\n",
       "      <td>BOEING COMPANY</td>\n",
       "      <td>2007</td>\n",
       "      <td>737-76N</td>\n",
       "      <td>34757</td>\n",
       "      <td>B737</td>\n",
       "      <td>B739</td>\n",
       "      <td>...</td>\n",
       "      <td>PRIVADA SERV.TRANSP.AEREO PUBLICO REGULAR</td>\n",
       "      <td>23092</td>\n",
       "      <td>OPERAÇÃO NEGADA PARA TÁXI AÉREO</td>\n",
       "      <td>NaN</td>\n",
       "      <td>14/08/19</td>\n",
       "      <td>30/05/21</td>\n",
       "      <td>Normal</td>\n",
       "      <td>NaN</td>\n",
       "      <td>NaN</td>\n",
       "      <td>NaN</td>\n",
       "    </tr>\n",
       "  </tbody>\n",
       "</table>\n",
       "<p>5 rows × 24 columns</p>\n",
       "</div>"
      ],
      "text/plain": [
       "                                            Proprietário: CPF/CNPJ:  \\\n",
       "PR-GEA  SASOF IV (A5) AVIATION IRELAND DESIGNATED ACTI...       NaN   \n",
       "PR-GEC                                     UMB BANK, N.A.       NaN   \n",
       "PR-GED                                     UMB BANK, N.A.       NaN   \n",
       "PR-GEE                                   AWAS 32415 TRUST       NaN   \n",
       "PR-GEH             CELESTIAL AVIATION TRADING 66 LIMMITED       NaN   \n",
       "\n",
       "                    Operador:      CPF/CNPJ:1     Fabricante:  \\\n",
       "PR-GEA  GOL LINHAS AEREAS S.A  07575651000159  BOEING COMPANY   \n",
       "PR-GEC  GOL LINHAS AEREAS S.A  07575651000159  BOEING COMPANY   \n",
       "PR-GED  GOL LINHAS AEREAS S.A  07575651000159  BOEING COMPANY   \n",
       "PR-GEE  GOL LINHAS AEREAS S.A  07575651000159  BOEING COMPANY   \n",
       "PR-GEH  GOL LINHAS AEREAS S.A  07575651000159  BOEING COMPANY   \n",
       "\n",
       "       Ano de Fabricação:  Modelo: Número de Série: Tipo ICAO:  \\\n",
       "PR-GEA               2009  737-7EH            37595       B737   \n",
       "PR-GEC               2011  737-7EH            37608       B737   \n",
       "PR-GED               2011  737-7EH            37609       B737   \n",
       "PR-GEE               2002  737-73V            32415       B737   \n",
       "PR-GEH               2007  737-76N            34757       B737   \n",
       "\n",
       "       Tipo de Habilitação para Pilotos:  ...  \\\n",
       "PR-GEA                              B739  ...   \n",
       "PR-GEC                              B739  ...   \n",
       "PR-GED                              B739  ...   \n",
       "PR-GEE                              B739  ...   \n",
       "PR-GEH                              B739  ...   \n",
       "\n",
       "                           Categoria de Registro: Número da Matrícula:  \\\n",
       "PR-GEA  PRIVADA SERV.TRANSP.AEREO PUBLICO REGULAR                18476   \n",
       "PR-GEC  PRIVADA SERV.TRANSP.AEREO PUBLICO REGULAR                20026   \n",
       "PR-GED  PRIVADA SERV.TRANSP.AEREO PUBLICO REGULAR                20331   \n",
       "PR-GEE  PRIVADA SERV.TRANSP.AEREO PUBLICO REGULAR                20979   \n",
       "PR-GEH  PRIVADA SERV.TRANSP.AEREO PUBLICO REGULAR                23092   \n",
       "\n",
       "                    Status da Operação: Data da Compra/Transferência:  \\\n",
       "PR-GEA  OPERAÇÃO NEGADA PARA TÁXI AÉREO                      06/03/19   \n",
       "PR-GEC  OPERAÇÃO NEGADA PARA TÁXI AÉREO                      10/03/20   \n",
       "PR-GED  OPERAÇÃO NEGADA PARA TÁXI AÉREO                      10/03/20   \n",
       "PR-GEE  OPERAÇÃO NEGADA PARA TÁXI AÉREO                           NaN   \n",
       "PR-GEH  OPERAÇÃO NEGADA PARA TÁXI AÉREO                           NaN   \n",
       "\n",
       "       Data de Emissão do CA: Data de Validade do RCA:  \\\n",
       "PR-GEA               14/08/19                 27/08/21   \n",
       "PR-GEC               14/08/19                 27/07/23   \n",
       "PR-GED               14/08/19                      NaN   \n",
       "PR-GEE               19/08/19                 04/05/21   \n",
       "PR-GEH               14/08/19                 30/05/21   \n",
       "\n",
       "       Situação de Aeronavegabilidade: Motivo(s): Data de Validade do CVA:  \\\n",
       "PR-GEA                          Normal        NaN                      NaN   \n",
       "PR-GEC                          Normal        NaN                      NaN   \n",
       "PR-GED                          Normal        NaN                 05/08/23   \n",
       "PR-GEE                          Normal        NaN                      NaN   \n",
       "PR-GEH                          Normal        NaN                      NaN   \n",
       "\n",
       "        NaN  \n",
       "PR-GEA  NaN  \n",
       "PR-GEC  NaN  \n",
       "PR-GED  NaN  \n",
       "PR-GEE  NaN  \n",
       "PR-GEH  NaN  \n",
       "\n",
       "[5 rows x 24 columns]"
      ]
     },
     "metadata": {},
     "output_type": "display_data"
    }
   ],
   "source": [
    "display(tabela.head(5))"
   ]
  },
  {
   "cell_type": "markdown",
   "metadata": {},
   "source": [
    "Verificando características da tabela, como o tipo de dados em cada coluna."
   ]
  },
  {
   "cell_type": "code",
   "execution_count": 8,
   "metadata": {
    "scrolled": true
   },
   "outputs": [
    {
     "name": "stdout",
     "output_type": "stream",
     "text": [
      "<class 'pandas.core.frame.DataFrame'>\n",
      "Index: 139 entries, PR-GEA to PR-XMR\n",
      "Data columns (total 24 columns):\n",
      " #   Column                             Non-Null Count  Dtype \n",
      "---  ------                             --------------  ----- \n",
      " 0   Proprietário:                      128 non-null    object\n",
      " 1   CPF/CNPJ:                          0 non-null      object\n",
      " 2   Operador:                          128 non-null    object\n",
      " 3   CPF/CNPJ:1                         128 non-null    object\n",
      " 4   Fabricante:                        128 non-null    object\n",
      " 5   Ano de Fabricação:                 128 non-null    object\n",
      " 6   Modelo:                            128 non-null    object\n",
      " 7   Número de Série:                   128 non-null    object\n",
      " 8   Tipo ICAO:                         128 non-null    object\n",
      " 9   Tipo de Habilitação para Pilotos:  128 non-null    object\n",
      " 10  Classe da Aeronave:                128 non-null    object\n",
      " 11  Peso Máximo de Decolagem:          128 non-null    object\n",
      " 12  Número Máximo de Passageiros:      128 non-null    object\n",
      " 13  Tipo de voo autorizado:            128 non-null    object\n",
      " 14  Categoria de Registro:             127 non-null    object\n",
      " 15  Número da Matrícula:               128 non-null    object\n",
      " 16  Status da Operação:                139 non-null    object\n",
      " 17  Data da Compra/Transferência:      89 non-null     object\n",
      " 18  Data de Emissão do CA:             128 non-null    object\n",
      " 19  Data de Validade do RCA:           125 non-null    object\n",
      " 20  Situação de Aeronavegabilidade:    128 non-null    object\n",
      " 21  Motivo(s):                         0 non-null      object\n",
      " 22  Data de Validade do CVA:           3 non-null      object\n",
      " 23  nan                                0 non-null      object\n",
      "dtypes: object(24)\n",
      "memory usage: 27.1+ KB\n"
     ]
    }
   ],
   "source": [
    "tabela.info()"
   ]
  },
  {
   "cell_type": "markdown",
   "metadata": {},
   "source": [
    "Verificando o tipo de dados para cada linha da coluna 'Peso Máximo de Decolagem:'"
   ]
  },
  {
   "cell_type": "code",
   "execution_count": 9,
   "metadata": {
    "scrolled": true
   },
   "outputs": [
    {
     "data": {
      "text/plain": [
       "PR-GEA      <class 'str'>\n",
       "PR-GEC      <class 'str'>\n",
       "PR-GED      <class 'str'>\n",
       "PR-GEE      <class 'str'>\n",
       "PR-GEH      <class 'str'>\n",
       "               ...       \n",
       "PR-XMN    <class 'float'>\n",
       "PR-XMO    <class 'float'>\n",
       "PR-XMP    <class 'float'>\n",
       "PR-XMQ    <class 'float'>\n",
       "PR-XMR    <class 'float'>\n",
       "Name: Peso Máximo de Decolagem:, Length: 139, dtype: object"
      ]
     },
     "execution_count": 9,
     "metadata": {},
     "output_type": "execute_result"
    }
   ],
   "source": [
    "tabela['Peso Máximo de Decolagem:'].apply(type)"
   ]
  },
  {
   "cell_type": "markdown",
   "metadata": {},
   "source": []
  },
  {
   "cell_type": "code",
   "execution_count": 10,
   "metadata": {
    "scrolled": true
   },
   "outputs": [
    {
     "data": {
      "text/plain": [
       "PR-GEA    <class 'float'>\n",
       "PR-GEC    <class 'float'>\n",
       "PR-GED    <class 'float'>\n",
       "PR-GEE    <class 'float'>\n",
       "PR-GEH    <class 'float'>\n",
       "               ...       \n",
       "PR-XMN    <class 'float'>\n",
       "PR-XMO    <class 'float'>\n",
       "PR-XMP    <class 'float'>\n",
       "PR-XMQ    <class 'float'>\n",
       "PR-XMR    <class 'float'>\n",
       "Name: Peso Máximo de Decolagem:, Length: 139, dtype: object"
      ]
     },
     "execution_count": 10,
     "metadata": {},
     "output_type": "execute_result"
    }
   ],
   "source": [
    "tabela['Peso Máximo de Decolagem:']=tabela['Peso Máximo de Decolagem:'].replace(['-','Kg'],'',regex=True).astype('float')\n",
    "tabela['Peso Máximo de Decolagem:'].apply(type)"
   ]
  },
  {
   "cell_type": "markdown",
   "metadata": {},
   "source": []
  },
  {
   "cell_type": "code",
   "execution_count": 11,
   "metadata": {},
   "outputs": [
    {
     "name": "stdout",
     "output_type": "stream",
     "text": [
      "<class 'pandas.core.frame.DataFrame'>\n",
      "Index: 139 entries, PR-GEA to PR-XMR\n",
      "Data columns (total 24 columns):\n",
      " #   Column                             Non-Null Count  Dtype  \n",
      "---  ------                             --------------  -----  \n",
      " 0   Proprietário:                      128 non-null    object \n",
      " 1   CPF/CNPJ:                          0 non-null      object \n",
      " 2   Operador:                          128 non-null    object \n",
      " 3   CPF/CNPJ:1                         128 non-null    object \n",
      " 4   Fabricante:                        128 non-null    object \n",
      " 5   Ano de Fabricação:                 128 non-null    object \n",
      " 6   Modelo:                            128 non-null    object \n",
      " 7   Número de Série:                   128 non-null    object \n",
      " 8   Tipo ICAO:                         128 non-null    object \n",
      " 9   Tipo de Habilitação para Pilotos:  128 non-null    object \n",
      " 10  Classe da Aeronave:                128 non-null    object \n",
      " 11  Peso Máximo de Decolagem:          128 non-null    float64\n",
      " 12  Número Máximo de Passageiros:      128 non-null    object \n",
      " 13  Tipo de voo autorizado:            128 non-null    object \n",
      " 14  Categoria de Registro:             127 non-null    object \n",
      " 15  Número da Matrícula:               128 non-null    object \n",
      " 16  Status da Operação:                139 non-null    object \n",
      " 17  Data da Compra/Transferência:      89 non-null     object \n",
      " 18  Data de Emissão do CA:             128 non-null    object \n",
      " 19  Data de Validade do RCA:           125 non-null    object \n",
      " 20  Situação de Aeronavegabilidade:    128 non-null    object \n",
      " 21  Motivo(s):                         0 non-null      object \n",
      " 22  Data de Validade do CVA:           3 non-null      object \n",
      " 23  nan                                0 non-null      object \n",
      "dtypes: float64(1), object(23)\n",
      "memory usage: 32.1+ KB\n"
     ]
    }
   ],
   "source": [
    "tabela.info()"
   ]
  }
 ],
 "metadata": {
  "colab": {
   "collapsed_sections": [],
   "name": "consulta_rab_anac.ipynb",
   "provenance": []
  },
  "kernelspec": {
   "display_name": "Python 3",
   "language": "python",
   "name": "python3"
  },
  "language_info": {
   "codemirror_mode": {
    "name": "ipython",
    "version": 3
   },
   "file_extension": ".py",
   "mimetype": "text/x-python",
   "name": "python",
   "nbconvert_exporter": "python",
   "pygments_lexer": "ipython3",
   "version": "3.7.6"
  }
 },
 "nbformat": 4,
 "nbformat_minor": 1
}
