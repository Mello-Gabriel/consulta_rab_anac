{
  "nbformat": 4,
  "nbformat_minor": 0,
  "metadata": {
    "colab": {
      "name": "consulta_rab_anac.ipynb",
      "provenance": [],
      "collapsed_sections": [],
      "include_colab_link": true
    },
    "kernelspec": {
      "name": "python3",
      "display_name": "Python 3"
    }
  },
  "cells": [
    {
      "cell_type": "markdown",
      "metadata": {
        "id": "view-in-github",
        "colab_type": "text"
      },
      "source": [
        "<a href=\"https://colab.research.google.com/github/Mello-Gabriel/consulta_rab_anac/blob/master/consulta_rab_anac.ipynb\" target=\"_parent\"><img src=\"https://colab.research.google.com/assets/colab-badge.svg\" alt=\"Open In Colab\"/></a>"
      ]
    },
    {
      "cell_type": "markdown",
      "metadata": {
        "id": "v86__ipuMt8K",
        "colab_type": "text"
      },
      "source": [
        "Monta o drive para importar e exportar arquivos no Google Drive."
      ]
    },
    {
      "cell_type": "code",
      "metadata": {
        "id": "B_YNVnsqMrMX",
        "colab_type": "code",
        "colab": {
          "base_uri": "https://localhost:8080/",
          "height": 34
        },
        "outputId": "fc765234-19ef-4f5e-a51a-e21a41a85256"
      },
      "source": [
        "from google.colab import drive\n",
        "drive.mount('/content/drive/')"
      ],
      "execution_count": 1,
      "outputs": [
        {
          "output_type": "stream",
          "text": [
            "Drive already mounted at /content/drive/; to attempt to forcibly remount, call drive.mount(\"/content/drive/\", force_remount=True).\n"
          ],
          "name": "stdout"
        }
      ]
    },
    {
      "cell_type": "markdown",
      "metadata": {
        "id": "Pbvv40Rg83GL",
        "colab_type": "text"
      },
      "source": [
        "Importa a biblioteca pandas como pd.\n"
      ]
    },
    {
      "cell_type": "code",
      "metadata": {
        "id": "z6dZV5Aiex-J",
        "colab_type": "code",
        "colab": {}
      },
      "source": [
        "import pandas as pd"
      ],
      "execution_count": 0,
      "outputs": []
    },
    {
      "cell_type": "markdown",
      "metadata": {
        "id": "Dru3Cayl8-wT",
        "colab_type": "text"
      },
      "source": [
        "Lista de aeronaves que movimentaram no aeroporto.\n",
        "1.   Importa a lista de aeronaves que movimentaram no aeroporto.\n",
        "2.   Retira as matrículas duplicadas (ocorre mais de uma movimentação por aeronave e a lista inicial possui todas movimentações).\n",
        "3.   Trasnforma a lista um um tuple para utilizar como fonte da iteração e como Key (Index) no DataFrame final."
      ]
    },
    {
      "cell_type": "code",
      "metadata": {
        "id": "UoCBxDgf8tvZ",
        "colab_type": "code",
        "colab": {
          "base_uri": "https://localhost:8080/",
          "height": 54
        },
        "outputId": "1636edc8-bb8f-4665-f9de-dca3bbaeb452"
      },
      "source": [
        "lista_matricula_aeronaves = pd.read_csv('/content/drive/My Drive/Python/Pandas/aeronaves.csv').drop_duplicates()\n",
        "lista_matricula_aeronaves=tuple(lista_matricula_aeronaves.iloc[:,0])\n",
        "print(lista_matricula_aeronaves)"
      ],
      "execution_count": 3,
      "outputs": [
        {
          "output_type": "stream",
          "text": [
            "('2VBNM', 'PRPDO', 'PRAKI', 'PRATV', 'PRAKJ', 'PRTKI', 'PRTKK', 'PRAKL', 'PRAQQ', 'PRAQI', 'PRAQZ', 'PRAQM', 'PRTKM', 'PRAQJ', 'PRAKF', 'PRAQS', 'PRYRE', 'PRYSB', 'PRYRJ', 'PRYRK', 'PRYYL', 'PRYRF', 'PRYYF', 'PRYYA', 'PRYRW', 'PRYYI', 'PRYSA', 'PRYSD', 'PRYYC', 'PRYRX', 'PRYRI', 'PRYYE', 'PRYRY', 'PRYRV', 'PRYSF', 'PRYRO', 'PRYRZ', 'PRYRT', 'PRYYH', 'PRYYG', 'PRYYB', 'PRYRS', 'PRYRD', 'PRAUA', 'PRAYI', 'PRAXE', 'PRAXO', 'PRAXI', 'PRAXA', 'PRAYW', 'PRAUI', 'PRAXT', 'PRAXL', 'PRAUP', 'PRAXD', 'PRAZB', 'PRAXH', 'PRAYK', 'PRAXJ', 'PRAYV', 'PRAYJ', 'PRAUC', 'PRAUF', 'PRAXF', 'PRAXY', 'PRAXC', 'PRAXK', 'PRAYF', 'PRAUH', 'PRAYE', 'PRAYX', 'PRAYN', 'PRAYY', 'PRAXR', 'PRAUE', 'PRAYZ', 'PRAXZ', 'PRAYG', 'PRAXW', 'PRAXX', 'PRAUK', 'PSAEB', 'PSAEA', 'PRYRA', 'PRYRU', 'PRYRR', 'PRYSC', 'PRYYD', 'PRYRH', 'PRYRB', 'PRYRQ', 'PRYRL', 'PRYRN', 'PRAQL', 'PRPJN', 'PSAEC', 'PRAXS', 'PRAUN', 'PRYRC', 'PRYSE', 'PRAZG', 'PRAXN', 'PRAJE', 'PRAUM', 'PRAUJ', 'PRAXU', 'PRAYL', 'PRAUO', 'PRAZL', 'PRAQT', 'PRATW', 'PRAZC', 'PRAXP', 'PRAXB', 'PRTKL', 'PRAQK', 'PRAQB', 'PRAUQ', 'PRAZE', 'PRAQO', 'PRAZA', 'PRAKA', 'PRAYO', 'PRAIT', 'PRAIW', 'PRAIU', 'PRAIX', 'PRAIY', 'HP1826', 'HP1854', 'HP1724', 'HP1856', 'HP1848', 'HP1729', 'HP1855', 'HP1716', 'HP1852', 'HP1857', 'HP1839', 'HP1723', 'HP1717', 'HP1715', 'HP1722', 'HP1720', 'HP1721', 'HP1718', 'HP1853', 'HP1850', 'HP1533', 'HP1712', 'HP1719', '8515', '8505', 'FAB2590', 'PRGXB', 'PRGXF', 'PRGXX', 'PRGUR', 'PRGXT', 'PRGGJ', 'PRGXV', 'PRGGZ', 'PRGTL', 'PRGXL', 'PRGUY', 'PRGYA', 'PRGYD', 'PRGUM', 'PRGUA', 'PRGXI', 'PRGUL', 'PRGUB', 'PRGXN', 'PRGGY', 'PRGXC', 'PRGEA', 'PRGUN', 'PRGXP', 'PRGEH', 'PRGOW', 'PRGEI', 'PRGEE', 'PRVBU', 'PRGTQ', 'PRVBQ', 'PRGEJ', 'PRVBO', 'PRGOQ', 'PRVBW', 'PRGGF', 'PRGGT', 'PRGUE', 'PRGON', 'PRGEQ', 'PRGXD', 'PRGGH', 'PRGXQ', 'PRGXJ', 'PRGGR', 'PRGXH', 'PRGTO', 'PRGGN', 'PRGXU', 'PRGGP', 'PRGUJ', 'PRGGE', 'PRGUC', 'PRGGO', 'PRGXE', 'PRGTC', 'PRGGD', 'PRGUD', 'PRGUX', 'PRGTV', 'PRGXW', 'PRGGV', 'PRGTM', 'PRGUP', 'PRGTT', 'PRGXR', 'PRGUT', 'PRGGK', 'PRGEK', 'PRGTN', 'PRVBV', 'PRVBH', 'PRGTR', 'PRVBL', 'PRGUF', 'PRGUZ', 'PRGUH', 'PRGUV', 'PRGGM', 'PRGTJ', 'PRVBF', 'PRGGQ', 'PRGGL', 'PRGGG', 'PRGTG', 'PRGGX', 'PRGUU', 'PRGGU', 'PRGTH', 'PRGTB', 'PRVBK', 'PRGUQ', 'PRGUK', 'PRGXM', 'PRGEC', 'PRGOR', 'PRGZU', 'PRGZE', 'PRGOP', 'PRGZZ', 'PRGZS', 'PRGZG', 'PRGZK', 'PRGZL', 'PRGTE', 'PRVBN', 'PRHSW', 'PRVBG', 'PRGZH', 'PRGTF', 'PRGGW', 'PRGZD', 'PRGIU', 'PRHSB', 'PRGZV', 'PRGZW', 'PRGZF', 'PRGZR', 'PRGZJ', 'PRGIH', 'PRVBX', 'PRGZQ', 'PRGXA', 'PRVBI', 'PRGZI', 'PRGTA', 'PRGTP', 'PRGUG', 'PRGED', '3601', '3604', 'FAB2004', '2004', 'PRMBN', 'PRMBW', 'PRMYL', 'PRMBV', 'PTTMO', 'PRMYM', 'PRMYC', 'PRMAN', 'PRMBU', 'PTTMI', 'PRMAO', 'PRMAQ', 'PTTME', 'PTTMG', 'PRMYQ', 'PRMHQ', 'PRMBO', 'PRMYH', 'PRMHP', 'PRTYO', 'PRMYB', 'PRMYJ', 'PRMHX', 'PRMYP', 'PRMYK', 'PTTMC', 'PTMZT', 'PRMYZ', 'PRMHZ', 'PRMBZ', 'PRMYY', 'PRTYA', 'PRMBQ', 'PRXBF', 'PTMZL', 'PRMHA', 'PTMZI', 'PRMBA', 'PRMBX', 'PTMZU', 'PRMHF', 'PRMHM', 'PRXBD', 'PRMYW', 'PRXBE', 'PTMZW', 'PRMHG', 'PRXBC', 'PRMHU', 'PRMYI', 'PRMYR', 'PRXBA', 'PTTMA', 'PRTYK', 'PRMYV', 'PRMBG', 'PRTYN', 'PRMYX', 'PRMBY', 'PRTYF', 'PRTYM', 'PRMBS', 'PRMBF', 'PRMBT', 'PRMAL', 'PRMAM', 'PRMHW', 'PRMHK', 'PRMBR', 'PRMBH', 'PRMAK', 'PTMXN', 'PRMAZ', 'PRTYD', 'PTMXF', 'PRMYT', 'PRMHR', 'PRTYV', 'PRMAP', 'PRTYG', 'PRMAG', 'PTMZY', 'PTTML', 'PTMZZ', 'PTTMB', 'PTMZG', 'PRXBB', 'PTTMD', 'PTMXI', 'PTMXA', 'PTXPA', 'PTMXJ', 'PTMXL', 'PTMXM', 'PTXPB', 'PTXPH', 'PTXPL', 'PTXPO', 'PTMXP', 'PTMXG', 'PRTYI', 'PRTYQ', 'PTMXE', 'PRTYJ', 'PRTYS', 'PRTYL', 'PTMXC', 'PTXPG', 'PTXPM', 'PRTYP', 'PTXPN', 'PTXPI', 'PTXPC', 'PTMXH', 'PTXPE', 'PTMXB', 'PTMXD', 'PTXPQ', 'PTMXQ', 'PTXPD', 'PTXPJ', 'PRCND', 'PPBER', 'PPBLK', 'PPCST', 'PPESJ', 'PPJPC', 'PPKIA', 'PPLCF', 'PPMXM', 'PPSAL', 'PPWRV', 'PRBZE', 'PRCCR', 'PRCNI', 'PRDHG', 'PRGRB', 'PRHPA', 'PRHSK', 'PRHTF', 'PRHZB', 'PRIJE', 'PRJEN', 'PRJVB', 'PRMDQ', 'PRNHH', 'PROFA', 'PROSO', 'PRRJV', 'PRTOG', 'PRTSI', 'PRVJX', 'PRVSA', 'PRVTN', 'PTFKK', 'PTMGS', 'PTOLQ', 'PTRBZ', 'PTWGS', 'PRSDV', 'PRSDM', 'PPWSA', 'PRSDT', 'PRSDU', 'PRSLU', 'PRSDJ', 'PRSDL', 'PRSDF', 'CSTUL', 'CSTUC', 'CSTUP', 'CSTUJ', 'CSTUO', 'CSTUH', 'CSTUN', 'CSTUM', 'CSTUB', 'CSTUG', 'CSTUD', 'CSTOR', 'CSTOQ', 'CSTUF', 'CSTOO', 'N277EA')\n"
          ],
          "name": "stdout"
        }
      ]
    },
    {
      "cell_type": "markdown",
      "metadata": {
        "id": "NRnf6BPj9pks",
        "colab_type": "text"
      },
      "source": [
        "Consultas ao Registro Aeronáutico Brasileiro (RAB) - ANAC.\n",
        "1.    Cria lista vazia - **tabela_rab** - será o DataFrame final.\n",
        "2.    Realiza busca no banco de dados do RAB com base na matrícula das aeronaves - iterando nos itens da tuple **lista_matricula_aeronaves**.\n",
        "3.    Transforma a importação de lista para DataFrame.\n",
        "4.    Renomeia as colunas do DataFrame.\n",
        "5.    Insere o DataFrame **matricula_aeronave** na lista de DataFrames **tabela_rab**.\n",
        "\n"
      ]
    },
    {
      "cell_type": "code",
      "metadata": {
        "id": "6YaGyXY88xgq",
        "colab_type": "code",
        "colab": {}
      },
      "source": [
        "tabela_rab=[]\n",
        "for matricula_aeronave in lista_matricula_aeronaves:\n",
        "  matricula_aeronave = pd.read_html('https://sistemas.anac.gov.br/aeronaves/cons_rab_resposta.asp?textMarca='+str(matricula_aeronave))\n",
        "  matricula_aeronave = pd.DataFrame(matricula_aeronave[0])\n",
        "  matricula_aeronave.columns=['cabecalho','informacao']\n",
        "  matricula_aeronave.set_index('cabecalho', inplace=True)\n",
        "  # matricula_aeronave.index=['proprietario','cpf_cnpj_proprietario','operador','cpf_cnpj_operador','fabricante','ano_fabricacao','modelo','num_serie','tipo_icao','tipo_habilitacao_pilotos','classe_aeronave','peso_max_decolagem','num_max_pax','tipo_voo_autorizado','categoria_registro','status_operacao','data_compra_ou_transferencia','validade_ca','validade_rca','situacao_aeronavegabilidade','motivo']\n",
        "  tabela_rab.append(matricula_aeronave)"
      ],
      "execution_count": 0,
      "outputs": []
    },
    {
      "cell_type": "markdown",
      "metadata": {
        "id": "2HmEMdwcGDAN",
        "colab_type": "text"
      },
      "source": [
        "Concatenar a lista de DataFrames em um único DataFrame **tabela_rab**"
      ]
    },
    {
      "cell_type": "code",
      "metadata": {
        "id": "oHXUvyhHFx_k",
        "colab_type": "code",
        "colab": {}
      },
      "source": [
        "tabela_rab = pd.concat(tabela_rab, axis=0, keys=lista_matricula_aeronaves)"
      ],
      "execution_count": 0,
      "outputs": []
    },
    {
      "cell_type": "markdown",
      "metadata": {
        "id": "ba9Ej3HgGmil",
        "colab_type": "text"
      },
      "source": [
        "Printa a tabela_rab concatenada"
      ]
    },
    {
      "cell_type": "code",
      "metadata": {
        "id": "cO0WjL4SGlon",
        "colab_type": "code",
        "colab": {
          "base_uri": "https://localhost:8080/",
          "height": 283
        },
        "outputId": "2b833964-aec4-42ad-c875-723a6745bb71"
      },
      "source": [
        "print(tabela_rab)"
      ],
      "execution_count": 6,
      "outputs": [
        {
          "output_type": "stream",
          "text": [
            "                                       informacao\n",
            "       cabecalho                                 \n",
            "2VBNM  Proprietário:                          NaN\n",
            "       CPF/CNPJ:                              NaN\n",
            "       Operador:                              NaN\n",
            "       CPF/CNPJ:                              NaN\n",
            "       Fabricante:                            NaN\n",
            "...                                           ...\n",
            "N277EA Data da Compra/Transferência:          NaN\n",
            "       Data de Validade do CA:                NaN\n",
            "       NaN                                    NaN\n",
            "       Situação de Aeronavegabilidade:        NaN\n",
            "       Motivo(s):                             NaN\n",
            "\n",
            "[9920 rows x 1 columns]\n"
          ],
          "name": "stdout"
        }
      ]
    },
    {
      "cell_type": "markdown",
      "metadata": {
        "id": "kMdblDUCGD89",
        "colab_type": "text"
      },
      "source": [
        "Exportar o DataFrame para um arquivo csv"
      ]
    },
    {
      "cell_type": "code",
      "metadata": {
        "id": "IqjWDtHtFi9B",
        "colab_type": "code",
        "colab": {}
      },
      "source": [
        "tabela_rab.to_csv('/content/drive/My Drive/Python/Pandas/tabela_rab.csv')"
      ],
      "execution_count": 0,
      "outputs": []
    }
  ]
}