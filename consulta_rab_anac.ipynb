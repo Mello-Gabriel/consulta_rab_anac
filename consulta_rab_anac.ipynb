{
  "nbformat": 4,
  "nbformat_minor": 0,
  "metadata": {
    "colab": {
      "name": "consulta_rab_anac.ipynb",
      "provenance": [],
      "collapsed_sections": [],
      "include_colab_link": true
    },
    "kernelspec": {
      "name": "python3",
      "display_name": "Python 3"
    }
  },
  "cells": [
    {
      "cell_type": "markdown",
      "metadata": {
        "id": "view-in-github",
        "colab_type": "text"
      },
      "source": [
        "<a href=\"https://colab.research.google.com/github/Mello-Gabriel/consulta_rab_anac/blob/horizontalconcat/consulta_rab_anac.ipynb\" target=\"_parent\"><img src=\"https://colab.research.google.com/assets/colab-badge.svg\" alt=\"Open In Colab\"/></a>"
      ]
    },
    {
      "cell_type": "markdown",
      "metadata": {
        "id": "v86__ipuMt8K",
        "colab_type": "text"
      },
      "source": [
        "Monta o drive para importar e exportar arquivos no Google Drive."
      ]
    },
    {
      "cell_type": "code",
      "metadata": {
        "id": "B_YNVnsqMrMX",
        "colab_type": "code",
        "outputId": "31643a9d-5f6a-4433-e2b3-605e958ba9f2",
        "colab": {
          "base_uri": "https://localhost:8080/",
          "height": 54
        }
      },
      "source": [
        "from google.colab import drive\n",
        "drive.mount('/content/drive/')"
      ],
      "execution_count": 17,
      "outputs": [
        {
          "output_type": "stream",
          "text": [
            "Drive already mounted at /content/drive/; to attempt to forcibly remount, call drive.mount(\"/content/drive/\", force_remount=True).\n"
          ],
          "name": "stdout"
        }
      ]
    },
    {
      "cell_type": "markdown",
      "metadata": {
        "id": "Pbvv40Rg83GL",
        "colab_type": "text"
      },
      "source": [
        "Importa a biblioteca pandas como pd.\n"
      ]
    },
    {
      "cell_type": "code",
      "metadata": {
        "id": "z6dZV5Aiex-J",
        "colab_type": "code",
        "colab": {}
      },
      "source": [
        "import pandas as pd"
      ],
      "execution_count": 0,
      "outputs": []
    },
    {
      "cell_type": "markdown",
      "metadata": {
        "id": "Dru3Cayl8-wT",
        "colab_type": "text"
      },
      "source": [
        "Lista de aeronaves que movimentaram no aeroporto.\n",
        "1.   Importa a lista de aeronaves que movimentaram no aeroporto.\n",
        "2.   Retira as matrículas duplicadas (ocorre mais de uma movimentação por aeronave e a lista inicial possui todas movimentações).\n",
        "3.   Trasnforma a lista um um tuple para utilizar como fonte da iteração e como Key (Index) no DataFrame final."
      ]
    },
    {
      "cell_type": "code",
      "metadata": {
        "id": "UoCBxDgf8tvZ",
        "colab_type": "code",
        "outputId": "3b8883bb-f14b-4f5d-e1cd-d9409b1cd79a",
        "colab": {
          "base_uri": "https://localhost:8080/",
          "height": 54
        }
      },
      "source": [
        "lista_matricula_aeronaves = pd.read_csv('/content/drive/My Drive/Python/Pandas/aeronaves.csv').drop_duplicates()\n",
        "lista_matricula_aeronaves=tuple(lista_matricula_aeronaves.iloc[:,0])\n",
        "print(lista_matricula_aeronaves)"
      ],
      "execution_count": 26,
      "outputs": [
        {
          "output_type": "stream",
          "text": [
            "('2VBNM', 'PRPDO', 'PRAKI', 'PRATV', 'PRAKJ', 'PRTKI', 'PRTKK', 'PRAKL', 'PRAQQ', 'PRAQI', 'PRAQZ', 'PRAQM', 'PRTKM', 'PRAQJ', 'PRAKF', 'PRAQS', 'PRYRE', 'PRYSB', 'PRYRJ', 'PRYRK', 'PRYYL', 'PRYRF', 'PRYYF', 'PRYYA', 'PRYRW', 'PRYYI', 'PRYSA', 'PRYSD', 'PRYYC', 'PRYRX', 'PRYRI', 'PRYYE', 'PRYRY', 'PRYRV', 'PRYSF', 'PRYRO', 'PRYRZ', 'PRYRT', 'PRYYH', 'PRYYG', 'PRYYB', 'PRYRS', 'PRYRD', 'PRAUA', 'PRAYI', 'PRAXE', 'PRAXO', 'PRAXI', 'PRAXA', 'PRAYW', 'PRAUI', 'PRAXT', 'PRAXL', 'PRAUP', 'PRAXD', 'PRAZB', 'PRAXH', 'PRAYK', 'PRAXJ', 'PRAYV', 'PRAYJ', 'PRAUC', 'PRAUF', 'PRAXF', 'PRAXY', 'PRAXC', 'PRAXK', 'PRAYF', 'PRAUH', 'PRAYE', 'PRAYX', 'PRAYN', 'PRAYY', 'PRAXR', 'PRAUE', 'PRAYZ', 'PRAXZ', 'PRAYG', 'PRAXW', 'PRAXX', 'PRAUK', 'PSAEB', 'PSAEA', 'PRYRA', 'PRYRU', 'PRYRR', 'PRYSC', 'PRYYD', 'PRYRH', 'PRYRB', 'PRYRQ', 'PRYRL', 'PRYRN', 'PRAQL', 'PRPJN', 'PSAEC', 'PRAXS', 'PRAUN', 'PRYRC', 'PRYSE', 'PRAZG', 'PRAXN', 'PRAJE', 'PRAUM', 'PRAUJ', 'PRAXU', 'PRAYL', 'PRAUO', 'PRAZL', 'PRAQT', 'PRATW', 'PRAZC', 'PRAXP', 'PRAXB', 'PRTKL', 'PRAQK', 'PRAQB', 'PRAUQ', 'PRAZE', 'PRAQO', 'PRAZA', 'PRAKA', 'PRAYO', 'PRAIT', 'PRAIW', 'PRAIU', 'PRAIX', 'PRAIY', 'HP1826', 'HP1854', 'HP1724', 'HP1856', 'HP1848', 'HP1729', 'HP1855', 'HP1716', 'HP1852', 'HP1857', 'HP1839', 'HP1723', 'HP1717', 'HP1715', 'HP1722', 'HP1720', 'HP1721', 'HP1718', 'HP1853', 'HP1850', 'HP1533', 'HP1712', 'HP1719', '8515', '8505', 'FAB2590', 'PRGXB', 'PRGXF', 'PRGXX', 'PRGUR', 'PRGXT', 'PRGGJ', 'PRGXV', 'PRGGZ', 'PRGTL', 'PRGXL', 'PRGUY', 'PRGYA', 'PRGYD', 'PRGUM', 'PRGUA', 'PRGXI', 'PRGUL', 'PRGUB', 'PRGXN', 'PRGGY', 'PRGXC', 'PRGEA', 'PRGUN', 'PRGXP', 'PRGEH', 'PRGOW', 'PRGEI', 'PRGEE', 'PRVBU', 'PRGTQ', 'PRVBQ', 'PRGEJ', 'PRVBO', 'PRGOQ', 'PRVBW', 'PRGGF', 'PRGGT', 'PRGUE', 'PRGON', 'PRGEQ', 'PRGXD', 'PRGGH', 'PRGXQ', 'PRGXJ', 'PRGGR', 'PRGXH', 'PRGTO', 'PRGGN', 'PRGXU', 'PRGGP', 'PRGUJ', 'PRGGE', 'PRGUC', 'PRGGO', 'PRGXE', 'PRGTC', 'PRGGD', 'PRGUD', 'PRGUX', 'PRGTV', 'PRGXW', 'PRGGV', 'PRGTM', 'PRGUP', 'PRGTT', 'PRGXR', 'PRGUT', 'PRGGK', 'PRGEK', 'PRGTN', 'PRVBV', 'PRVBH', 'PRGTR', 'PRVBL', 'PRGUF', 'PRGUZ', 'PRGUH', 'PRGUV', 'PRGGM', 'PRGTJ', 'PRVBF', 'PRGGQ', 'PRGGL', 'PRGGG', 'PRGTG', 'PRGGX', 'PRGUU', 'PRGGU', 'PRGTH', 'PRGTB', 'PRVBK', 'PRGUQ', 'PRGUK', 'PRGXM', 'PRGEC', 'PRGOR', 'PRGZU', 'PRGZE', 'PRGOP', 'PRGZZ', 'PRGZS', 'PRGZG', 'PRGZK', 'PRGZL', 'PRGTE', 'PRVBN', 'PRHSW', 'PRVBG', 'PRGZH', 'PRGTF', 'PRGGW', 'PRGZD', 'PRGIU', 'PRHSB', 'PRGZV', 'PRGZW', 'PRGZF', 'PRGZR', 'PRGZJ', 'PRGIH', 'PRVBX', 'PRGZQ', 'PRGXA', 'PRVBI', 'PRGZI', 'PRGTA', 'PRGTP', 'PRGUG', 'PRGED', '3601', '3604', 'FAB2004', '2004', 'PRMBN', 'PRMBW', 'PRMYL', 'PRMBV', 'PTTMO', 'PRMYM', 'PRMYC', 'PRMAN', 'PRMBU', 'PTTMI', 'PRMAO', 'PRMAQ', 'PTTME', 'PTTMG', 'PRMYQ', 'PRMHQ', 'PRMBO', 'PRMYH', 'PRMHP', 'PRTYO', 'PRMYB', 'PRMYJ', 'PRMHX', 'PRMYP', 'PRMYK', 'PTTMC', 'PTMZT', 'PRMYZ', 'PRMHZ', 'PRMBZ', 'PRMYY', 'PRTYA', 'PRMBQ', 'PRXBF', 'PTMZL', 'PRMHA', 'PTMZI', 'PRMBA', 'PRMBX', 'PTMZU', 'PRMHF', 'PRMHM', 'PRXBD', 'PRMYW', 'PRXBE', 'PTMZW', 'PRMHG', 'PRXBC', 'PRMHU', 'PRMYI', 'PRMYR', 'PRXBA', 'PTTMA', 'PRTYK', 'PRMYV', 'PRMBG', 'PRTYN', 'PRMYX', 'PRMBY', 'PRTYF', 'PRTYM', 'PRMBS', 'PRMBF', 'PRMBT', 'PRMAL', 'PRMAM', 'PRMHW', 'PRMHK', 'PRMBR', 'PRMBH', 'PRMAK', 'PTMXN', 'PRMAZ', 'PRTYD', 'PTMXF', 'PRMYT', 'PRMHR', 'PRTYV', 'PRMAP', 'PRTYG', 'PRMAG', 'PTMZY', 'PTTML', 'PTMZZ', 'PTTMB', 'PTMZG', 'PRXBB', 'PTTMD', 'PTMXI', 'PTMXA', 'PTXPA', 'PTMXJ', 'PTMXL', 'PTMXM', 'PTXPB', 'PTXPH', 'PTXPL', 'PTXPO', 'PTMXP', 'PTMXG', 'PRTYI', 'PRTYQ', 'PTMXE', 'PRTYJ', 'PRTYS', 'PRTYL', 'PTMXC', 'PTXPG', 'PTXPM', 'PRTYP', 'PTXPN', 'PTXPI', 'PTXPC', 'PTMXH', 'PTXPE', 'PTMXB', 'PTMXD', 'PTXPQ', 'PTMXQ', 'PTXPD', 'PTXPJ', 'PRCND', 'PPBER', 'PPBLK', 'PPCST', 'PPESJ', 'PPJPC', 'PPKIA', 'PPLCF', 'PPMXM', 'PPSAL', 'PPWRV', 'PRBZE', 'PRCCR', 'PRCNI', 'PRDHG', 'PRGRB', 'PRHPA', 'PRHSK', 'PRHTF', 'PRHZB', 'PRIJE', 'PRJEN', 'PRJVB', 'PRMDQ', 'PRNHH', 'PROFA', 'PROSO', 'PRRJV', 'PRTOG', 'PRTSI', 'PRVJX', 'PRVSA', 'PRVTN', 'PTFKK', 'PTMGS', 'PTOLQ', 'PTRBZ', 'PTWGS', 'PRSDV', 'PRSDM', 'PPWSA', 'PRSDT', 'PRSDU', 'PRSLU', 'PRSDJ', 'PRSDL', 'PRSDF', 'CSTUL', 'CSTUC', 'CSTUP', 'CSTUJ', 'CSTUO', 'CSTUH', 'CSTUN', 'CSTUM', 'CSTUB', 'CSTUG', 'CSTUD', 'CSTOR', 'CSTOQ', 'CSTUF', 'CSTOO', 'N277EA')\n"
          ],
          "name": "stdout"
        }
      ]
    },
    {
      "cell_type": "markdown",
      "metadata": {
        "id": "NRnf6BPj9pks",
        "colab_type": "text"
      },
      "source": [
        "Consultas ao Registro Aeronáutico Brasileiro (RAB) - ANAC.\n",
        "1.    Cria lista vazia - **tabela_rab** - será o DataFrame final.\n",
        "2.    Realiza busca no banco de dados do RAB com base na matrícula das aeronaves - iterando nos itens da tuple **lista_matricula_aeronaves**.\n",
        "3.    Transforma a importação de lista para DataFrame.\n",
        "4.    Renomeia as colunas do DataFrame.\n",
        "5.    Insere o DataFrame **matricula_aeronave** na lista de DataFrames **tabela_rab**.\n",
        "\n"
      ]
    },
    {
      "cell_type": "code",
      "metadata": {
        "id": "6YaGyXY88xgq",
        "colab_type": "code",
        "colab": {}
      },
      "source": [
        "tabela_rab={}\n",
        "indice_len={}\n",
        "for matricula_aeronave in lista_matricula_aeronaves:\n",
        "  ler_html= pd.read_html('https://sistemas.anac.gov.br/aeronaves/cons_rab_resposta.asp?textMarca='+str(matricula_aeronave))\n",
        "  tabela_rab[matricula_aeronave] = pd.DataFrame(ler_html[0])\n",
        "  tabela_rab[matricula_aeronave].columns=['matricula', matricula_aeronave]\n",
        "  tabela_rab[matricula_aeronave].set_index('matricula', inplace=True)\n",
        "  tabela_rab[matricula_aeronave].index = tabela_rab[matricula_aeronave].index.where(~tabela_rab[matricula_aeronave].index.duplicated(), tabela_rab[matricula_aeronave].index + '1')\n",
        "  tabela_rab[matricula_aeronave].index = tabela_rab[matricula_aeronave].index.where(~tabela_rab[matricula_aeronave].index.duplicated(), tabela_rab[matricula_aeronave].index + '2')\n",
        "  tabela_rab[matricula_aeronave].index = tabela_rab[matricula_aeronave].index.where(~tabela_rab[matricula_aeronave].index.duplicated(), tabela_rab[matricula_aeronave].index + '3')\n",
        "  tabela_rab[matricula_aeronave].index = tabela_rab[matricula_aeronave].index.where(~tabela_rab[matricula_aeronave].index.duplicated(), tabela_rab[matricula_aeronave].index + '4')\n",
        "  indice_len[matricula_aeronave]=len(tabela_rab[matricula_aeronave].index)"
      ],
      "execution_count": 0,
      "outputs": []
    },
    {
      "cell_type": "code",
      "metadata": {
        "id": "6wpYXZeh4Gey",
        "colab_type": "code",
        "colab": {}
      },
      "source": [
        "maior_indice=max(indice_len, key=indice_len.get)\n",
        "lista_indice_maior=list(tabela_rab[maior_indice].index)"
      ],
      "execution_count": 0,
      "outputs": []
    },
    {
      "cell_type": "code",
      "metadata": {
        "id": "d6OsAXTu_Q-w",
        "colab_type": "code",
        "colab": {}
      },
      "source": [
        "for matricula_aeronave in lista_matricula_aeronaves:\n",
        "  tabela_rab[matricula_aeronave]=tabela_rab[matricula_aeronave].reindex(lista_indice_maior)"
      ],
      "execution_count": 0,
      "outputs": []
    },
    {
      "cell_type": "markdown",
      "metadata": {
        "id": "2HmEMdwcGDAN",
        "colab_type": "text"
      },
      "source": [
        "Concatenar a lista de DataFrames em um único DataFrame **tabela_rab**"
      ]
    },
    {
      "cell_type": "code",
      "metadata": {
        "id": "oHXUvyhHFx_k",
        "colab_type": "code",
        "colab": {
          "base_uri": "https://localhost:8080/",
          "height": 357
        },
        "outputId": "d526ce97-b46a-43b6-cb16-bfb2a2209ed9"
      },
      "source": [
        "tabela_rab_concatenada = pd.concat(tabela_rab, axis=1)\n",
        "tabela_rab_concatenada=tabela_rab_concatenada.transpose()\n",
        "tabela_rab_concatenada=tabela_rab_concatenada.reset_index(level=1, drop=True)\n",
        "print(tabela_rab_concatenada)\n",
        "print(tabela_rab_concatenada.index)"
      ],
      "execution_count": 23,
      "outputs": [
        {
          "output_type": "stream",
          "text": [
            "matricula                          Proprietário:  ... Motivo(s):\n",
            "2VBNM                                        NaN  ...        NaN\n",
            "PRPDO      CELESTIAL AVIATION TRADING 62 LIMITED  ...        NaN\n",
            "PRAKI                    NAC AVIATION 19 LIMITED  ...        NaN\n",
            "PRATV         GATE CAPITAL (CAYMAN) NINE LIMITED  ...        NaN\n",
            "PRAKJ                    NAC AVIATION 19 LIMITED  ...        NaN\n",
            "...                                          ...  ...        ...\n",
            "CSTOR                                        NaN  ...        NaN\n",
            "CSTOQ                                        NaN  ...        NaN\n",
            "CSTUF                                        NaN  ...        NaN\n",
            "CSTOO                                        NaN  ...        NaN\n",
            "N277EA                                       NaN  ...        NaN\n",
            "\n",
            "[471 rows x 27 columns]\n",
            "Index(['2VBNM', 'PRPDO', 'PRAKI', 'PRATV', 'PRAKJ', 'PRTKI', 'PRTKK', 'PRAKL',\n",
            "       'PRAQQ', 'PRAQI',\n",
            "       ...\n",
            "       'CSTUN', 'CSTUM', 'CSTUB', 'CSTUG', 'CSTUD', 'CSTOR', 'CSTOQ', 'CSTUF',\n",
            "       'CSTOO', 'N277EA'],\n",
            "      dtype='object', length=471)\n"
          ],
          "name": "stdout"
        }
      ]
    },
    {
      "cell_type": "markdown",
      "metadata": {
        "id": "ba9Ej3HgGmil",
        "colab_type": "text"
      },
      "source": [
        "Printa a tabela_rab concatenada"
      ]
    },
    {
      "cell_type": "code",
      "metadata": {
        "id": "cO0WjL4SGlon",
        "colab_type": "code",
        "outputId": "06e30655-cf83-4280-e1b9-f0cac0709f46",
        "colab": {
          "base_uri": "https://localhost:8080/",
          "height": 408
        }
      },
      "source": [
        "print(tabela_rab_concatenada.head(20))"
      ],
      "execution_count": 24,
      "outputs": [
        {
          "output_type": "stream",
          "text": [
            "matricula                                  Proprietário:  ... Motivo(s):\n",
            "2VBNM                                                NaN  ...        NaN\n",
            "PRPDO              CELESTIAL AVIATION TRADING 62 LIMITED  ...        NaN\n",
            "PRAKI                            NAC AVIATION 19 LIMITED  ...        NaN\n",
            "PRATV                 GATE CAPITAL (CAYMAN) NINE LIMITED  ...        NaN\n",
            "PRAKJ                            NAC AVIATION 19 LIMITED  ...        NaN\n",
            "PRTKI      WILMINGTON TRUST SP SERVICES (DUBLIN) LIMITED  ...        NaN\n",
            "PRTKK      WILMINGTON TRUST SP SERVICES (DUBLIN) LIMITED  ...        NaN\n",
            "PRAKL                            NAC AVIATION 19 LIMITED  ...        NaN\n",
            "PRAQQ                           MSN 1166 LEASING LIMITED  ...        NaN\n",
            "PRAQI                 GATE CAPITAL (CAYMAN) NINE LIMITED  ...        NaN\n",
            "PRAQZ                           MSN 1241 LEASING LIMITED  ...        NaN\n",
            "PRAQM                         BILLUND LEASING IV LIMITED  ...        NaN\n",
            "PRTKM                             NAC AVIATION 8 LIMITED  ...        NaN\n",
            "PRAQJ                 GATE CAPITAL (CAYMAN) NINE LIMITED  ...        NaN\n",
            "PRAKF                           MSN 1292 LEASING LIMITED  ...        NaN\n",
            "PRAQS             KESTREL AVIATION IRELAND NO. 5 LIMITED  ...        NaN\n",
            "PRYRE           WILMINGTON TRUST. SP SERV.(DUBLIN) LIMIT  ...        NaN\n",
            "PRYSB      WILMINGTON TRUST SP SERVICES (DUBLIN) LIMITED  ...        NaN\n",
            "PRYRJ      WILMINGTON TRUST SP SERVICES (DUBLIN) LIMITED  ...        NaN\n",
            "PRYRK      WILMINGTON TRUST SP SERVICES (DUBLIN) LIMITED  ...        NaN\n",
            "\n",
            "[20 rows x 27 columns]\n"
          ],
          "name": "stdout"
        }
      ]
    },
    {
      "cell_type": "markdown",
      "metadata": {
        "id": "kMdblDUCGD89",
        "colab_type": "text"
      },
      "source": [
        "Exportar o DataFrame para um arquivo csv"
      ]
    },
    {
      "cell_type": "code",
      "metadata": {
        "id": "IqjWDtHtFi9B",
        "colab_type": "code",
        "colab": {}
      },
      "source": [
        "tabela_rab_concatenada.to_csv('/content/drive/My Drive/Python/Pandas/tabela_rab_concatenada.csv')"
      ],
      "execution_count": 0,
      "outputs": []
    }
  ]
}